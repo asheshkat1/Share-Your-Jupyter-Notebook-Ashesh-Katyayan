{
  "metadata": {
    "kernelspec": {
      "name": "python",
      "display_name": "Python (Pyodide)",
      "language": "python"
    },
    "language_info": {
      "codemirror_mode": {
        "name": "python",
        "version": 3
      },
      "file_extension": ".py",
      "mimetype": "text/x-python",
      "name": "python",
      "nbconvert_exporter": "python",
      "pygments_lexer": "ipython3",
      "version": "3.8"
    }
  },
  "nbformat_minor": 5,
  "nbformat": 4,
  "cells": [
    {
      "id": "a35eeb9f-df70-4ab1-a243-2d2025888eb0",
      "cell_type": "markdown",
      "source": "# Data Science Tools and Ecosystem",
      "metadata": {}
    },
    {
      "id": "3df57da0-5ac7-41c1-9a67-e5369796584c",
      "cell_type": "markdown",
      "source": "In this notebook, Data Science Tools and Ecosystem are summarized.",
      "metadata": {
        "scrolled": true
      }
    },
    {
      "id": "bea42a1e-cb9e-4340-bbc6-13b76f4d6468",
      "cell_type": "markdown",
      "source": "**Objectives:**\n- State popular languages in Data Science\n- State commonly used libraries in Data Science\n- Evaluate arithmitic expressions in Python",
      "metadata": {}
    },
    {
      "id": "b9670d85-ef29-4dfd-b4b5-e76d279c1f1a",
      "cell_type": "markdown",
      "source": "Some of the popular languages that Data Scientists use are:\n1. Python\n2. R Studio\n3. SQL\n",
      "metadata": {}
    },
    {
      "id": "e229ca22-093a-4be2-9329-1f434f0608b6",
      "cell_type": "markdown",
      "source": "Some of the commonly used libraries used by Data Scientists include:\n1. NumPy\n2. Pandas\n3. Matplotlib",
      "metadata": {}
    },
    {
      "id": "68d453f1-4254-4b58-841e-39976d966ada",
      "cell_type": "markdown",
      "source": "| Data Science Tools |\n| --- | \n| Jupyter Lab | \n| Visual Studio Code |\n| R Studio | ",
      "metadata": {}
    },
    {
      "id": "b3d476f4-c6b3-48f5-beb6-56bf888b6725",
      "cell_type": "markdown",
      "source": "### Below are a few examples of evaluating arithmetic expressions in Python",
      "metadata": {}
    },
    {
      "id": "77cbe73c-835e-43bd-9475-90726620ba2a",
      "cell_type": "code",
      "source": "# This a simple arithmetic expression to mutiply then add integers\n(3*4)+5",
      "metadata": {
        "trusted": true
      },
      "outputs": [
        {
          "execution_count": 1,
          "output_type": "execute_result",
          "data": {
            "text/plain": "17"
          },
          "metadata": {}
        }
      ],
      "execution_count": 1
    },
    {
      "id": "0a5af69e-715a-4168-8fd4-03321bd43b33",
      "cell_type": "code",
      "source": "# This will convert 200 minutes to hours by diving by 60\n200/60",
      "metadata": {
        "trusted": true
      },
      "outputs": [
        {
          "execution_count": 2,
          "output_type": "execute_result",
          "data": {
            "text/plain": "3.3333333333333335"
          },
          "metadata": {}
        }
      ],
      "execution_count": 2
    },
    {
      "id": "1125bac6-db20-4fcb-bbfc-a8bdffcdb8e7",
      "cell_type": "markdown",
      "source": "## Author:\nAshesh Katyayan",
      "metadata": {}
    },
    {
      "id": "9a774f7d-d1b9-4837-8fc3-98fa3fc55a82",
      "cell_type": "code",
      "source": "",
      "metadata": {
        "trusted": true
      },
      "outputs": [],
      "execution_count": null
    },
    {
      "id": "caa8458e-aae4-4104-bdab-fcb0d2e88334",
      "cell_type": "code",
      "source": "",
      "metadata": {
        "trusted": true
      },
      "outputs": [],
      "execution_count": null
    }
  ]
}